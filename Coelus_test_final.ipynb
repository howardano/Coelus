{
 "cells": [
  {
   "cell_type": "code",
   "execution_count": 219,
   "metadata": {},
   "outputs": [],
   "source": [
    "import numpy as np\n",
    "import math\n",
    "import matplotlib.pyplot as plt\n",
    "import itertools"
   ]
  },
  {
   "cell_type": "markdown",
   "metadata": {},
   "source": [
    "# Формулировака задания\n",
    "\n",
    "**Проблема**. Для данного размера прямоугольника-стола *T* и данного множества опорных прямоугольных полиомино и опорных L-полиомино $P_{i}$ с данными соответствующими мощностями $N_{i}$ узнать, сущетсвует ли конфигурация полиомино с этими параметрами, являющееся замощением *T*."
   ]
  },
  {
   "cell_type": "markdown",
   "metadata": {},
   "source": [
    "Основной сложностью данной задачи является произвольность введенных полиомино по количеству и их виду. К примеру в статье [1], имеется лишь **один** вид полиомино одного-единственного размера.\n",
    "\n",
    "Разумеется, не стоит выдумывать велосипед. Для данной задачи необходимо реализовать генетический алгоритм, описанный  в статье [2]. Но за неимением времени мы этого делать не будем, а решим задачу \"в лоб\"."
   ]
  },
  {
   "cell_type": "markdown",
   "metadata": {},
   "source": [
    "**Инструкция**:\n",
    "\n",
    "Для запуска программы, необходимо ввести в соответствующие переменные необходимые значения.\n",
    "\n",
    "S - лист прямоугольных полиомино;\n",
    "\n",
    "Q - лист L-полиомино.\n",
    "\n",
    "В комментариях указаны сложность методов и необходимая им память (in bytes). n - высота, m - ширина, k - количество типов прямоугольного полиомино, N - количество определенного типа прямоугольного полиомино, l - количество типов L-полиомино, M - количество определенного типа L-полиомино."
   ]
  },
  {
   "cell_type": "markdown",
   "metadata": {},
   "source": [
    "## Прямоугольное полиомино"
   ]
  },
  {
   "cell_type": "code",
   "execution_count": 331,
   "metadata": {},
   "outputs": [],
   "source": [
    "M_1, M_2 = 6, 6 # ширина и высота            8 bytes\n",
    "T = (M_2, M_1) # размер стола                8 bytes\n",
    "S = [((2, 2), 1), ((1, 1), 1)] # Прямоугольные полиомино             4*3*H bytes\n",
    "Q = [((3, 2), 4), ((2, 2), 4)] # Л-полиомино 4*3*H bytes"
   ]
  },
  {
   "cell_type": "code",
   "execution_count": 332,
   "metadata": {},
   "outputs": [],
   "source": [
    "s1 = sum([x[1] for x in S]) # Определяем количество прямоугольных полиомино 4 bytes\n",
    "s2 = sum([x[1] for x in Q]) # Определяем количество Л-полиомино             4 bytes\n",
    "  \n",
    "cells_m = [[None for i in range(M_1)] for j in range(M_2)] # Определяем прямоугольный стол n*m*4 bytes"
   ]
  },
  {
   "cell_type": "code",
   "execution_count": 333,
   "metadata": {},
   "outputs": [],
   "source": [
    "# Метод, показывающий, свободна ли клетка\n",
    "def is_free(x, y):               # const\n",
    "    if(y < 0 or x < 0):          # No memory\n",
    "        return False\n",
    "    try:\n",
    "        if(cells_m[x][y] != None):\n",
    "            return False\n",
    "        else:\n",
    "            return True\n",
    "    except:\n",
    "        return False\n",
    "    \n",
    "# Метод, устанавливающий прямоугольное полиомино ВЕРТИКАЛЬНО (label-общий номер полиомино, pol_w - ширина, pol_h - высота, x, y - координаты)\n",
    "def place_rect_vert(label, pol_w, pol_h, x, y): # 2*n*m\n",
    "    if(is_vert_fit(pol_w, pol_h, x, y)):        # Проверяем, можно ли установить прямоугольное полиомино ГОРИЗОНТАЛЬНО\n",
    "        for i in range(x, x+pol_w):             # 4*(n+m) bytes\n",
    "            for j in range(y, y+pol_h):\n",
    "                try:\n",
    "                    cells_m[i][j] = label       # Определяем место \n",
    "                except:\n",
    "                    return False\n",
    "        return True\n",
    "    return False\n",
    "\n",
    "# Метод, устанавливающий прямоугольное полиомино ГОРИЗОНТАЛЬНО (label-общий номер полиомино, pol_w - ширина, pol_h - высота, x, y - координаты)\n",
    "def place_rect_hor(label, pol_w, pol_h, x, y):  # 2*n*m\n",
    "    if(is_hor_fit(pol_w, pol_h, x, y)):         # Проверяем, можно ли установить прямоугольное полиомино ГОРИЗОНТАЛЬНО\n",
    "        for i in range(x, x+pol_h):             # 4*(n+m) bytes\n",
    "            for j in range(y, y+pol_w):\n",
    "                try:\n",
    "                    cells_m[i][j] = label       # Определяем место\n",
    "                except:\n",
    "                    return False\n",
    "        return True\n",
    "    return False\n",
    "\n",
    "# Метод, осуществляющий проверку (ГОРИЗОНТАЛЬНУЮ): можно ли поместить полиомино с параметрами pol_w - ширина и pol_h - высота в заданную область\n",
    "def is_hor_fit(pol_w, pol_h, x, y): #n*m\n",
    "    for i in range(x, x+pol_h):                 # 4*(n+m) bytes\n",
    "        for j in range(y, y+pol_w):\n",
    "            if(is_free(i, j) == False):\n",
    "                return False\n",
    "    return True\n",
    "\n",
    "# Метод, осуществляющий проверку (ВЕРТИКАЛЬНУЮ): можно ли поместить полиомино с параметрами pol_w - ширина и pol_h - высота в заданную область\n",
    "def is_vert_fit(pol_w, pol_h, x, y):            # n*m\n",
    "    for i in range(x, x+pol_w):                 # 4*(n+m) bytes\n",
    "        for j in range(y, y+pol_h):\n",
    "            if(is_free(i, j) == False):\n",
    "                return False\n",
    "    return True\n",
    "\n",
    "# Метод, устанавливающий отдельно взятый из входного листа прямоугольный полиомино\n",
    "def place_S_pol(count, pol_num):               # 2*n^2*m^2\n",
    "    for x in range(T[0]+1):                    # 8*(n+m) bytes\n",
    "        for y in range(T[1]+1):\n",
    "            if(is_free(x, y)):\n",
    "                    if(place_rect_hor(pol_num, S[count][0][0], S[count][0][1], x, y)): # Проверка: установлен ли полиомино ГОРИЗОНТАЛЬНО\n",
    "                        pol_num+=1 # Увеличиваем счетчик помещенных полиомино\n",
    "                        return True\n",
    "                    if(place_rect_vert(pol_num, S[count][0][0], S[count][0][1], x, y)):# Проверка: установлен ли полиомино ВЕРТИКАЛЬНО\n",
    "                        pol_num+=1 # Увеличиваем счетчик помещенных полиомино\n",
    "                        return True\n",
    "    return False\n",
    "    \n",
    "# Корневой метод для прямоугольных полиомино: определяется порядок помещения полиомино на доску\n",
    "def S_pol(pol_num):                              # 2*k*N*n^2*m^2\n",
    "    for count in range(len(S)):                  # 4*(k+N) + 8*(n+m)  bytes\n",
    "        for num_of_pol in range(S[count][1]):\n",
    "            if(place_S_pol(count, pol_num)):\n",
    "                pol_num+=1 # Увеличиваем счетчик помещенных полиомино\n",
    "            else:\n",
    "                return False\n",
    "    return pol_num"
   ]
  },
  {
   "cell_type": "markdown",
   "metadata": {},
   "source": [
    "## L-полиомино\n",
    "\n",
    "Названия методов, реализованных для L-полиомино, есть названия ориентаций L-полиомино на схеме, приведенной ниже, но адаптированные под синтаксис Python."
   ]
  },
  {
   "cell_type": "code",
   "execution_count": 334,
   "metadata": {},
   "outputs": [
    {
     "data": {
      "text/html": [
       "<img src=\"https://sun9-81.userapi.com/impg/dNXW1XWkPIi5znvFcOZyz4teTgiRmFwB9NqmIA/I7c7kEr6Zqg.jpg?size=2560x1930&quality=96&sign=d8a98a7783ac3389668ea9a1a3a20a07&type=album\" width=\"1000\"/>"
      ],
      "text/plain": [
       "<IPython.core.display.Image object>"
      ]
     },
     "metadata": {},
     "output_type": "display_data"
    }
   ],
   "source": [
    "from IPython.display import Image # Библиотека для отображения картинок\n",
    "\n",
    "display(Image(url='https://sun9-81.userapi.com/impg/dNXW1XWkPIi5znvFcOZyz4teTgiRmFwB9NqmIA/I7c7kEr6Zqg.jpg?size=2560x1930&quality=96&sign=d8a98a7783ac3389668ea9a1a3a20a07&type=album', \n",
    "              width = 1000)\n",
    "       ) "
   ]
  },
  {
   "cell_type": "markdown",
   "metadata": {},
   "source": [
    "Итак, имея для L-полиомино 8 ориентаций, реализуем все 8 из них."
   ]
  },
  {
   "cell_type": "code",
   "execution_count": 335,
   "metadata": {},
   "outputs": [],
   "source": [
    "def is_UR_fit(pol_w, pol_h, x, y):       # UR - Up Right\n",
    "    for i in range(x, x+pol_w):          # n+m\n",
    "        if(is_free(i, y) == False):      # Проверяем, свободна ли данная клетка\n",
    "            return False                 # 4*max(n, m) bytes\n",
    "    for j in range(y, y+pol_h):\n",
    "        if(is_free(x, j) == False):      # Проверяем, свободна ли данная клетка\n",
    "            return False\n",
    "    return True\n",
    "    \n",
    "def place_UR(pol_w, pol_h, x, y, label): # Устанавливаем L-полиомино с ориентацией Up Right\n",
    "    if(is_UR_fit(pol_w, pol_h, x, y)):   # Проверяем, можно ли установить L-полиомино с ориентацией Up Right\n",
    "        for i in range(x, x+pol_w):      # 2n+2m\n",
    "            cells_m[i][y] = label        # 4*max(n, m) bytes\n",
    "        for j in range(y, y+pol_h):\n",
    "            cells_m[x][j] = label\n",
    "        return True\n",
    "    return False\n",
    "\n",
    "def is_UL_fit(pol_w, pol_h, x, y):       # UL - Up Left\n",
    "    for i in range(x, x+pol_w):          # n+m\n",
    "        if(is_free(i, y) == False):      # Проверяем, свободна ли данная клетка\n",
    "            return False                 # 4*max(n, m) bytes\n",
    "    for j in range(y-pol_h+1, y):\n",
    "        if(is_free(x, j) == False):      # Проверяем, свободна ли данная клетка\n",
    "            return False\n",
    "    return True\n",
    "\n",
    "def place_UL(pol_w, pol_h, x, y, label): # Устанавливаем L-полиомино с ориентацией Up Left\n",
    "    if(is_UL_fit(pol_w, pol_h, x, y)):   # Проверяем, можно ли установить L-полиомино с ориентацией Up Left\n",
    "        for i in range(x, x+pol_w):      # 2n+2m\n",
    "            cells_m[i][y] = label        # 4*max(n, m) bytes\n",
    "        for j in range(y-pol_h+1, y):\n",
    "            cells_m[x][j] = label\n",
    "        return True\n",
    "    return False\n",
    "\n",
    "def is_DL_fit(pol_w, pol_h, x, y):       # DL - Down Left\n",
    "    for i in range(x, x+pol_w):          # n+m\n",
    "        if(is_free(i, y) == False):      # Проверяем, свободна ли данная клетка\n",
    "            return False                 # 4*max(n, m) bytes\n",
    "    for j in range(y-pol_h+1, y):\n",
    "        if(is_free(x+pol_w-1, j) == False): # Проверяем, свободна ли данная клетка\n",
    "            return False\n",
    "    return True\n",
    "\n",
    "def place_DL(pol_w, pol_h, x, y, label): # Устанавливаем L-полиомино с ориентацией Down Left\n",
    "    if(is_DL_fit(pol_w, pol_h, x, y)):   # Проверяем, можно ли установить L-полиомино с ориентацией Down Left\n",
    "        for i in range(x, x+pol_w):      # 2n+2m\n",
    "            cells_m[i][y] = label        # 4*max(n, m) bytes\n",
    "        for j in range(y-pol_h+1, y):\n",
    "            cells_m[x+pol_w-1][j] = label \n",
    "        return True\n",
    "    return False\n",
    "\n",
    "def is_DR_fit(pol_w, pol_h, x, y):      # DR - Down Right\n",
    "    for i in range(x, x+pol_w):         # n+m\n",
    "        if(is_free(i, y) == False):     # Проверяем, свободна ли данная клетка\n",
    "            return False                # 4*max(n, m) bytes\n",
    "    for j in range(y, y+pol_h):\n",
    "        if(is_free(x+pol_w-1, j) == False): # Проверяем, свободна ли данная клетка\n",
    "            return False\n",
    "    return True\n",
    "\n",
    "def place_DR(pol_w, pol_h, x, y, label):    # Устанавливаем L-полиомино с ориентацией Down Right\n",
    "    if(is_DR_fit(pol_w, pol_h, x, y)):      # Проверяем, можно ли установить L-полиомино с ориентацией Down Right\n",
    "        for i in range(x, x+pol_w):         # 2n+2m\n",
    "            cells_m[i][y] = label           # 4*max(n, m) bytes\n",
    "        for j in range(y, y+pol_h):\n",
    "            cells_m[x+pol_w-1][j] = label\n",
    "        return True\n",
    "    return False\n",
    "\n",
    "def is_RU_fit(pol_w, pol_h, x, y):      # RU - Right Up\n",
    "    for j in range(y, y+pol_w):         # n+m\n",
    "        if(is_free(x, j) == False):     # Проверяем, свободна ли данная клетка\n",
    "            return False                # 4*max(n, m) bytes\n",
    "    for i in range(x-pol_h+1, x):  \n",
    "        if(is_free(i, y+pol_w-1) == False): # Проверяем, свободна ли данная клетка\n",
    "            return False\n",
    "    return True\n",
    "            \n",
    "def place_RU(pol_w, pol_h, x, y, label): # Устанавливаем L-полиомино с ориентацией Right UP\n",
    "    if(is_RU_fit(pol_w, pol_h, x, y)):   # Проверяем, можно ли установить L-полиомино с ориентацией Right UP\n",
    "        for j in range(y, y+pol_w):      #2n+2m\n",
    "            cells_m[x][j] = label        # 4*max(n, m) bytes\n",
    "        for i in range(x-pol_h+1, x):\n",
    "            cells_m[i][y+pol_w-1] = label\n",
    "        return True\n",
    "    return False\n",
    "\n",
    "def is_RD_fit(pol_w, pol_h, x, y):      # RD - Right Down\n",
    "    for j in range(y, y+pol_w):         # n+m\n",
    "        if(is_free(x, j) == False):     # Проверяем, свободна ли данная клетка\n",
    "            return False                # 4*max(n, m) bytes\n",
    "    for i in range(x, x+pol_h):\n",
    "        if(is_free(i, y+pol_w-1)==False): # Проверяем, свободна ли данная клетка\n",
    "            return False\n",
    "    return True\n",
    "\n",
    "def place_RD(pol_w, pol_h, x, y, label): # Устанавливаем L-полиомино с ориентацией Right Down\n",
    "    if(is_RD_fit(pol_w, pol_h, x, y)):   # Проверяем, можно ли установить L-полиомино с ориентацией Right Down\n",
    "        for j in range(y, y+pol_w):      # 2n+2m\n",
    "            cells_m[x][j] = label        # 4*max(n, m) bytes\n",
    "        for i in range(x, x+pol_h):\n",
    "            cells_m[i][y+pol_w-1] = label\n",
    "        return True\n",
    "    return False\n",
    "\n",
    "def is_LU_fit(pol_w, pol_h, x, y):      # LU - Left Up\n",
    "    for j in range(y-pol_w, y):         # n+m\n",
    "        if(is_free(x, j) == False):     # Проверяем, свободна ли данная клетка\n",
    "            return False                # 4*max(n, m) bytes\n",
    "    for i in range(x-pol_h+1, x):\n",
    "        if(is_free(i, y-pol_w) == False):  # Проверяем, свободна ли данная клетка\n",
    "            return False\n",
    "    return True\n",
    "\n",
    "def place_LU(pol_w, pol_h, x, y, label): # Устанавливаем L-полиомино с ориентацией Left Up\n",
    "    if(is_LU_fit(pol_w, pol_h, x, y)):   # Проверяем, можно ли установить L-полиомино с ориентацией Left Up\n",
    "        for j in range(y-pol_w, y):      # 2n+2m\n",
    "            cells_m[x][j] = label        # 4*max(n, m) bytes\n",
    "        for i in range(x-pol_h+1, x):\n",
    "            cells_m[i][y-pol_w] = label\n",
    "        return True\n",
    "    return False\n",
    "\n",
    "def is_LD_fit(pol_w, pol_h, x, y):     # LD - Left Down\n",
    "    for j in range(y-pol_w, y):        # n+m\n",
    "        if(is_free(x, j) == False):    # Проверяем, свободна ли данная клетка\n",
    "            return False               # 4*max(n, m) bytes\n",
    "    for i in range(x, x+pol_h): \n",
    "        if(is_free(i, y-pol_w) == False):  # Проверяем, свободна ли данная клетка\n",
    "            return False\n",
    "    return True\n",
    "\n",
    "def place_LD(pol_w, pol_h, x, y, label): # Устанавливаем L-полиомино с ориентацией Left Down\n",
    "    if(is_LD_fit(pol_w, pol_h, x, y)):   # Проверяем, можно ли установить L-полиомино с ориентацией Left Down\n",
    "        for j in range(y-pol_w, y):      # 2n+2m\n",
    "            cells_m[x][j] = label        # 4*max(n, m) bytes\n",
    "        for i in range(x, x+pol_h):\n",
    "            cells_m[i][y-pol_w] = label\n",
    "        return True\n",
    "    return False\n",
    "\n",
    "def place_L_pol(count, pol_num, priorities):         # Метод, устанавливающий отдельно взятый L-полиомино\n",
    "    methods = [place_RU, place_LU, place_RD, place_LD, place_UL, place_UR, place_DL, place_DR]\n",
    "    for x in range(T[0]+1):              # 16*n*m*(n+m)\n",
    "        for y in range(T[1]+1):          # 4*(n+m) + 4*max(n, m) bytes\n",
    "            if(is_free(x, y)):\n",
    "                if(place_RD(Q[count][0][0], Q[count][0][1], x, y, pol_num)):\n",
    "                    pol_num+=1\n",
    "                    return True\n",
    "                if(place_LD(Q[count][0][0], Q[count][0][1], x, y, pol_num)):\n",
    "                    pol_num+=1\n",
    "                    return True\n",
    "                if(place_RU(Q[count][0][0], Q[count][0][1], x, y, pol_num)):\n",
    "                    pol_num+=1\n",
    "                    return True\n",
    "                if(place_LU(Q[count][0][0], Q[count][0][1], x, y, pol_num)):\n",
    "                    pol_num+=1\n",
    "                    return True\n",
    "                if(place_UL(Q[count][0][0], Q[count][0][1], x, y, pol_num)):\n",
    "                    pol_num+=1\n",
    "                    return True\n",
    "                if(place_UR(Q[count][0][0], Q[count][0][1], x, y, pol_num)):\n",
    "                    pol_num+=1\n",
    "                    return True\n",
    "                if(place_DL(Q[count][0][0], Q[count][0][1], x, y, pol_num)):\n",
    "                    pol_num+=1\n",
    "                    return True\n",
    "                if(place_DR(Q[count][0][0], Q[count][0][1], x, y, pol_num)):\n",
    "                    pol_num+=1\n",
    "                    return True\n",
    "    return False\n",
    "         \n",
    "# Корневой метод для L-полиомино: определяется порядок помещения полиомино на доску\n",
    "def L_pol(pol_num):                            # l*M*16*n*m*(n+m)\n",
    "    priorities = itertools.permutations([0, 1, 2, 3, 4, 5, 6, 7])\n",
    "    for count in range(len(Q)):\n",
    "        for num_of_pol in range(Q[count][1]):  # 4*(l+M) + 4*(n+m) + 4*max(n, m) bytes\n",
    "            if(place_L_pol(count, pol_num, priorities)):\n",
    "                pol_num+=1\n",
    "            else:\n",
    "                return False\n",
    "    return pol_num"
   ]
  },
  {
   "cell_type": "markdown",
   "metadata": {},
   "source": [
    "## Результат"
   ]
  },
  {
   "cell_type": "code",
   "execution_count": 336,
   "metadata": {},
   "outputs": [],
   "source": [
    "answers = [] # Алгоритм запускается 2 раза, поэтому имеем лист с ответами 2 bits\n",
    "configurations = [] # Две результирующие матрицы\n",
    "pol_num = 0 # счетчик полиомино                                           4 bytes\n",
    "pol_num = S_pol(pol_num)          \n",
    "pol_num = L_pol(pol_num)\n",
    "if(pol_num == False):\n",
    "    answers.append(False)\n",
    "else:\n",
    "    answers.append(True)\n",
    "pol_num = 0 # счетчик полиомино\n",
    "configurations.append(cells_m)\n",
    "cells_m = [[None for i in range(M_1)] for j in range(M_2)]\n",
    "pol_num = L_pol(pol_num)\n",
    "pol_num = S_pol(pol_num)\n",
    "if(pol_num == False):\n",
    "    answers.append(False)\n",
    "else:\n",
    "    answers.append(True)\n",
    "configurations.append(cells_m)   \n",
    "\n",
    "# Memory needed: max(4*(l+M) + 4*(n+m) + 4*max(n, m), 4*(k+N) + 8*(n+m))"
   ]
  },
  {
   "cell_type": "code",
   "execution_count": 337,
   "metadata": {},
   "outputs": [
    {
     "name": "stdout",
     "output_type": "stream",
     "text": [
      "Answer is \"Yes\"\n"
     ]
    }
   ],
   "source": [
    "if(answers.count(True) > 0):\n",
    "    print('Answer is \"Yes\"')\n",
    "else:\n",
    "    print('Answer is \"No\"')"
   ]
  },
  {
   "cell_type": "code",
   "execution_count": 338,
   "metadata": {},
   "outputs": [
    {
     "data": {
      "text/plain": [
       "[True, False]"
      ]
     },
     "execution_count": 338,
     "metadata": {},
     "output_type": "execute_result"
    }
   ],
   "source": [
    "answers"
   ]
  },
  {
   "cell_type": "code",
   "execution_count": 339,
   "metadata": {},
   "outputs": [],
   "source": [
    "try:\n",
    "    cells_m = configurations[answers.index(True)]\n",
    "except:\n",
    "    print('The answer is \"No\"')"
   ]
  },
  {
   "cell_type": "code",
   "execution_count": 340,
   "metadata": {},
   "outputs": [],
   "source": [
    "labels = np.arange(s1+s2)\n",
    "colors = ('#FA5454', '#21D3B6', '#3384FA', '#FFD256', '#62ECFA', '#FFCEC8', '#CDEFE8', '#00334E', '#FF5D00', '#190900', '#BAB5B2', '#C9A6A0')\n",
    "cdict = dict(zip(labels, colors)) #Color dictionnary for plotting"
   ]
  },
  {
   "cell_type": "code",
   "execution_count": 341,
   "metadata": {},
   "outputs": [
    {
     "data": {
      "image/png": "[encoded data removed]",
      "text/plain": [
       "<Figure size 720x504 with 1 Axes>"
      ]
     },
     "metadata": {
      "needs_background": "light"
     },
     "output_type": "display_data"
    }
   ],
   "source": [
    "try:\n",
    "    plt.figure(figsize = (10, 7))\n",
    "    plt.grid(True)\n",
    "    plt.axis([0,T[0],0,T[1]])\n",
    "    plt.yticks(np.arange(0, T[0]-1, 1.0))\n",
    "    plt.xticks(np.arange(0, T[1]-1, 1.0))\n",
    "    for j in range(T[1]):\n",
    "        for i in range(T[0]):\n",
    "            if(cells_m[i][j] != None):\n",
    "                rect = plt.Rectangle((i, j), 1, 1, fc = cdict[cells_m[i][j]])\n",
    "                plt.gca().add_patch(rect)\n",
    "except:\n",
    "    print('Error occured...')"
   ]
  },
  {
   "cell_type": "code",
   "execution_count": 342,
   "metadata": {},
   "outputs": [
    {
     "data": {
      "text/plain": [
       "[[0, 0, 1, 2, 2, 2],\n",
       " [0, 0, 3, 3, 3, 2],\n",
       " [4, 4, 4, 5, 3, 6],\n",
       " [7, 7, 4, 5, 6, 6],\n",
       " [8, 7, 5, 5, 9, 9],\n",
       " [8, 8, None, None, None, 9]]"
      ]
     },
     "execution_count": 342,
     "metadata": {},
     "output_type": "execute_result"
    }
   ],
   "source": [
    "cells_m"
   ]
  },
  {
   "cell_type": "markdown",
   "metadata": {},
   "source": [
    "[1] - https://cyberleninka.ru/article/n/metody-tselochislennogo-lineynogo-programmirovaniya-v-zadache-neregulyarnogo-razmescheniya-ploskih-geometricheskih-obektov-v-forme/viewer\n",
    "\n",
    "[2] - https://www.ugatu.su/media/uploads/MainSite/Science/dissovet/03/2014/ChirikovHY/autoref.pdf"
   ]
  },
  {
   "cell_type": "code",
   "execution_count": null,
   "metadata": {},
   "outputs": [],
   "source": []
  }
 ],
 "metadata": {
  "kernelspec": {
   "display_name": "Python 3",
   "language": "python",
   "name": "python3"
  },
  "language_info": {
   "codemirror_mode": {
    "name": "ipython",
    "version": 3
   },
   "file_extension": ".py",
   "mimetype": "text/x-python",
   "name": "python",
   "nbconvert_exporter": "python",
   "pygments_lexer": "ipython3",
   "version": "3.8.3"
  }
 },
 "nbformat": 4,
 "nbformat_minor": 4
}
